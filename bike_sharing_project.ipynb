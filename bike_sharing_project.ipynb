{
  "nbformat": 4,
  "nbformat_minor": 0,
  "metadata": {
    "colab": {
      "provenance": [],
      "collapsed_sections": [
        "-uFIcMcrZabP",
        "BYyL4PwFaJ7E",
        "F_mDZBM7dp6t",
        "oRUUkoSTgB-b",
        "1erge18NpOoT",
        "wybw-laKq0H3",
        "pmQYDsGbEoZJ",
        "QmfFZ62pNBGz",
        "ROOqIQqPPXUE"
      ],
      "authorship_tag": "ABX9TyPyJgw9iZO4TKdQ5GHRfG1J"
    },
    "kernelspec": {
      "name": "python3",
      "display_name": "Python 3"
    },
    "language_info": {
      "name": "python"
    }
  },
  "cells": [
    {
      "cell_type": "markdown",
      "source": [
        "# Ondřej Janek: Ondra J.#0489 "
      ],
      "metadata": {
        "id": "ftLvHIkoZV0M"
      }
    },
    {
      "cell_type": "markdown",
      "source": [
        "## Knihovny a vytvoření dataframe"
      ],
      "metadata": {
        "id": "-uFIcMcrZabP"
      }
    },
    {
      "cell_type": "code",
      "source": [
        "!pip install h3"
      ],
      "metadata": {
        "id": "HyrYlO5dkbG8"
      },
      "execution_count": null,
      "outputs": []
    },
    {
      "cell_type": "code",
      "execution_count": 208,
      "metadata": {
        "id": "brcXLDAdZOi0"
      },
      "outputs": [],
      "source": [
        "import pandas as pd\n",
        "import altair as alt\n",
        "import h3\n",
        "import plotly.express as px\n",
        "import numpy as np"
      ]
    },
    {
      "cell_type": "code",
      "source": [
        "url='https://drive.google.com/file/d/1b733K2zirixiDlZRf_McLWlBEo5pmu7L/view?usp=sharing'\n",
        "url='https://drive.google.com/uc?id=' + url.split('/')[-2]\n",
        "df = pd.read_csv(url, delimiter=',', decimal=',', index_col=[0])"
      ],
      "metadata": {
        "id": "eLl5KErQ8R3Z"
      },
      "execution_count": 209,
      "outputs": []
    },
    {
      "cell_type": "code",
      "source": [
        "df.head()"
      ],
      "metadata": {
        "id": "onysNEXrZ3yF"
      },
      "execution_count": null,
      "outputs": []
    },
    {
      "cell_type": "code",
      "source": [
        "df.tail()"
      ],
      "metadata": {
        "id": "BSLrHV53Z3oF"
      },
      "execution_count": null,
      "outputs": []
    },
    {
      "cell_type": "code",
      "source": [
        "df.describe()"
      ],
      "metadata": {
        "id": "F4kzcYhAZ3W3"
      },
      "execution_count": null,
      "outputs": []
    },
    {
      "cell_type": "code",
      "source": [
        "df.info()"
      ],
      "metadata": {
        "id": "4vmsRxIgaAIW"
      },
      "execution_count": null,
      "outputs": []
    },
    {
      "cell_type": "code",
      "source": [
        "df.columns"
      ],
      "metadata": {
        "id": "vVWtI-HnDGRW"
      },
      "execution_count": null,
      "outputs": []
    },
    {
      "cell_type": "code",
      "source": [
        "df[\"started_at\"] = pd.to_datetime(df[\"started_at\"])\n",
        "df[\"ended_at\"] = pd.to_datetime(df[\"ended_at\"])\n",
        "df['ended_at'].max() - df['started_at'].min()"
      ],
      "metadata": {
        "id": "PTvGn0BF13IB"
      },
      "execution_count": null,
      "outputs": []
    },
    {
      "cell_type": "code",
      "source": [
        "cols = ['start_station_latitude',\n",
        "        'start_station_longitude',\n",
        "        'end_station_latitude',\n",
        "        'end_station_longitude']\n",
        "df[cols] = df[cols].astype(float)"
      ],
      "metadata": {
        "id": "_39q0jwrC6m6"
      },
      "execution_count": 216,
      "outputs": []
    },
    {
      "cell_type": "code",
      "source": [
        "df[df['start_station_id'] == 1025] = df.fillna('Corner of Dundee Street & Dundee Terrace')\n",
        "df[df['end_station_id'] == 1025]   = df.fillna('Corner of Dundee Street & Dundee Terrace')"
      ],
      "metadata": {
        "id": "30tBgIUJvQ_0"
      },
      "execution_count": 217,
      "outputs": []
    },
    {
      "cell_type": "code",
      "source": [
        "df[df['start_station_id'] == 1024] = df.fillna('End of Meadow Place')\n",
        "df[df['end_station_id'] == 1024]   = df.fillna('End of Meadow Place')\n",
        "df['start_station_name'].replace({\"Meadow Place 2\": \"Meadow Place\"}, inplace=True)\n",
        "df['end_station_name'].replace({\"Meadow Place 2\": \"Meadow Place\"}, inplace=True)"
      ],
      "metadata": {
        "id": "zYTX2UE10NbS"
      },
      "execution_count": 218,
      "outputs": []
    },
    {
      "cell_type": "code",
      "source": [
        "df[df['start_station_id'] == 1092] = df.fillna('near Scottish Building Society')\n",
        "df[df['end_station_id'] == 1092]   = df.fillna('near Scottish Building Society')"
      ],
      "metadata": {
        "id": "xclpB4Zi0mF-"
      },
      "execution_count": 219,
      "outputs": []
    },
    {
      "cell_type": "code",
      "source": [
        "df['start_station_name'].replace({\"Picady Place\": \"Picardy Place\"}, inplace=True)\n",
        "df['end_station_name'].replace({\"Picady Place\": \"Picardy Place\"}, inplace=True)"
      ],
      "metadata": {
        "id": "a23U-F0CBXXb"
      },
      "execution_count": 220,
      "outputs": []
    },
    {
      "cell_type": "code",
      "source": [
        "df.isna().sum()"
      ],
      "metadata": {
        "id": "pwh7XQn_ockn"
      },
      "execution_count": null,
      "outputs": []
    },
    {
      "cell_type": "markdown",
      "source": [
        "1. Dataset obsahuje 438259 řádků a 14 sloupců. Sloupce nám ukazují datum a čas výpujčky a vrácení, dobu trvání výpujčky ve vteřinách a údaje o počátečních a konečných stanic (identifikační číslo stanice, její název a popis, zeměpisnou šířku a délku)\n",
        "1. Dataset začíná datem 2018-09-15 08:52:05 a končí 2021-07-01 00:20:36.\n",
        "Celková délka je tedy 1019 dní 15 hodin a 28 minut.\n",
        "1. Dataset obsahuje NaN hodnoty pouze v description sloupcích jak počátečních tak konečných stanic, jedná se o 3 opakující se stanice (Meadow Place 2 id = 1024, Dundee Terrace id = 1025, Dalry Road Lidl id = 1092).\n",
        "* Stanici  'Dundee Terrace' chybí pouze v některých  řádcích description, proto doplním chybějící údaje.\n",
        "* Stanice 'Meadow Place 2' je totožná se stanicí 'Meadow Place' a description 'End of Meadow Place', proto nahradím 'Meadow Place 2' údaji z 'Meadow Place'.\n",
        "* Stanice 'Dalry Road Lidl' nemá žádné description v žádném řádku. Rozhodoval jsem se jestli sloupec description nechat prázdný nebo ho něčím nahradit. Podle zeměpisné šířky a délky jsem našel stanici na mapě, sousedí hned vedle další stanice 'Dalry Road Lid' s description 'outside Lidl', jelikož mají rozdílné ID rozhodl jsem se description stanice pojmenovat 'near Scottish Building Society'.\n",
        "* V datasetu se vyskytoval jeden překlep v názvu stanice s id '2268'. Kde místo 'Picardy Place'\tbylo 'Picady place'. Opraveno na správný název."
      ],
      "metadata": {
        "id": "BbJJQn0OoduW"
      }
    },
    {
      "cell_type": "markdown",
      "source": [
        "## Identifikace  aktivních a neaktivních stanic"
      ],
      "metadata": {
        "id": "BYyL4PwFaJ7E"
      }
    },
    {
      "cell_type": "code",
      "source": [
        "# Funkce zobrazí stanice na mapě\n",
        "def show_on_map(dataframe, lat, lon, name):\n",
        "  fig = px.scatter_mapbox(dataframe, title = f'{len(dataframe)} stations',\n",
        "                                     lat=lat,\n",
        "                                     lon=lon,\n",
        "                                     hover_name=name, zoom=11, height=600)\n",
        "  fig.update_layout(title_x=0.5,title_y=0.95)\n",
        "  fig.update_layout(mapbox_style=\"open-street-map\")\n",
        "  fig.update_layout(margin={\"r\":0,\"t\":0,\"l\":0,\"b\":0})\n",
        "  fig.show()"
      ],
      "metadata": {
        "id": "-NRZ0cKHKIYh"
      },
      "execution_count": 222,
      "outputs": []
    },
    {
      "cell_type": "code",
      "source": [
        "# Aktivní počáteční stanice\n",
        "df_start_active = df[df['started_at'] >= '2021-01-01 00:00:00']\n",
        "stations = list(df_start_active['start_station_id'].unique())\n",
        "df_start_active = df[df['start_station_id'].isin(stations)]\n",
        "df_start_active = df_start_active.drop_duplicates(\n",
        "                                    subset='start_station_id')[['start_station_name',\n",
        "                                                                'start_station_description',\n",
        "                                                                'start_station_latitude',\n",
        "                                                                'start_station_longitude']]\n",
        "\n",
        "show_on_map(df_start_active,\n",
        "            'start_station_latitude',\n",
        "            'start_station_longitude',\n",
        "            'start_station_name')"
      ],
      "metadata": {
        "id": "HjartUWfKILl"
      },
      "execution_count": null,
      "outputs": []
    },
    {
      "cell_type": "code",
      "source": [
        "# Neaktivní počáteční stanice\n",
        "df_start_inactive = df[~df['start_station_id'].isin(stations)]\n",
        "df_start_inactive = df_start_inactive.drop_duplicates(\n",
        "                                        subset='start_station_id')[['start_station_name',\n",
        "                                                                    'start_station_description',\n",
        "                                                                    'start_station_latitude',\n",
        "                                                                    'start_station_longitude']]\n",
        "                                                                    \n",
        "show_on_map(df_start_inactive,\n",
        "            'start_station_latitude',\n",
        "            'start_station_longitude',\n",
        "            'start_station_name')"
      ],
      "metadata": {
        "id": "2eLTipjjKcci"
      },
      "execution_count": null,
      "outputs": []
    },
    {
      "cell_type": "code",
      "source": [
        "# Aktivní konečné stanice\n",
        "df_end_active = df[df['ended_at'] >= '2021-01-01 00:00:00']\n",
        "stations = list(df_end_active['end_station_id'].unique())\n",
        "df_end_active = df[df['end_station_id'].isin(stations)]\n",
        "df_end_active = df_end_active.drop_duplicates(\n",
        "                                subset='end_station_id')[['end_station_name',\n",
        "                                                          'end_station_description',\n",
        "                                                          'end_station_latitude',\n",
        "                                                          'end_station_longitude']]\n",
        "df_end_active\n",
        "show_on_map(df_end_active,\n",
        "            'end_station_latitude',\n",
        "            'end_station_longitude',\n",
        "            'end_station_name')"
      ],
      "metadata": {
        "id": "nGDg2PKlaqrx"
      },
      "execution_count": null,
      "outputs": []
    },
    {
      "cell_type": "code",
      "source": [
        "# Neaktivní konečné stanice\n",
        "df_end_inactive = df[~df['end_station_id'].isin(stations)]\n",
        "df_end_inactive = df_end_inactive.drop_duplicates(\n",
        "                                    subset='end_station_id')[['end_station_name',\n",
        "                                                              'end_station_description', \n",
        "                                                              'end_station_latitude', \n",
        "                                                              'end_station_longitude']]\n",
        "show_on_map(df_end_inactive,\n",
        "            'end_station_latitude',\n",
        "            'end_station_longitude',\n",
        "            'end_station_name')                                                            "
      ],
      "metadata": {
        "id": "5yV7FX1jc069"
      },
      "execution_count": null,
      "outputs": []
    },
    {
      "cell_type": "markdown",
      "source": [
        "1. Jako neaktivní stanice jsem definoval ty, které nebyly použity od začátku roku 2021.\n",
        "2. Mapa zobrazuje aktivní a neaktivní stanice, jak počáteční tak konečné, a jejich počet.\n",
        "Komentář každé buňky popisuje co mapa zobrazuje."
      ],
      "metadata": {
        "id": "OkIFUyK1E-n_"
      }
    },
    {
      "cell_type": "markdown",
      "source": [
        "## Identifikace nejfrekventovanějších stanic\n"
      ],
      "metadata": {
        "id": "F_mDZBM7dp6t"
      }
    },
    {
      "cell_type": "code",
      "source": [
        "# Funkce bere jako argumenty dataframe a název sloupce. \n",
        "# Vrací DF se stanicemi a počtem výpujček nebo vrácení.\n",
        "# Místo dataframe může vrátit i graf.\n",
        "def count_stations(dataframe,column_name, graph = 'no'):\n",
        "  dataframe['rents_num'] = dataframe.groupby(dataframe[column_name])[column_name].transform('count')\n",
        "  df_frequent = dataframe[[column_name,column_name[:-3]+'_name','rents_num']]\n",
        "  df_frequent = df_frequent.sort_values(by= 'rents_num', ascending= False).drop_duplicates(subset=column_name)\n",
        "  if graph == 'no':\n",
        "    return df_frequent\n",
        "  elif graph == 'yes':\n",
        "    return alt.Chart(df_frequent.head(10), title='The busiest stations').mark_bar(size=16).encode(\n",
        "              x=alt.X('rents_num:Q', title='Number of rents'),\n",
        "              y=alt.Y(column_name[:-3]+'_name:O', title='Stations', sort= '-x'),\n",
        "              tooltip=[alt.Tooltip(column_name[:-3]+'_name:O', title=\"Station name\"),\n",
        "                       alt.Tooltip('rents_num:Q', title=\"Number of rents\")]\n",
        "          ).properties(height=300)"
      ],
      "metadata": {
        "id": "9V4BuaiQdxuY"
      },
      "execution_count": 227,
      "outputs": []
    },
    {
      "cell_type": "code",
      "source": [
        "# Graf nejfrekventovanějších počátečních stanic\n",
        "count_stations(df,'start_station_id', graph='yes')   "
      ],
      "metadata": {
        "id": "7Bh96-7AyvnA"
      },
      "execution_count": null,
      "outputs": []
    },
    {
      "cell_type": "code",
      "source": [
        "# Graf nejfrekventovanějších konečných stanic\n",
        "count_stations(df,'end_station_id', graph='yes')  "
      ],
      "metadata": {
        "id": "NeNeAT2jdxzP"
      },
      "execution_count": null,
      "outputs": []
    },
    {
      "cell_type": "code",
      "source": [
        "# Získej počáteční a konečné stanice\n",
        "df_start = count_stations(df,'start_station_id')\n",
        "df_end = count_stations(df,'end_station_id')"
      ],
      "metadata": {
        "id": "n076-YuNgR3d"
      },
      "execution_count": 230,
      "outputs": []
    },
    {
      "cell_type": "code",
      "source": [
        "# Průnik 10 nejfrekventovanějších počátečních a konečných stanic\n",
        "df_intersected = df_start.head(10).merge(df_end.head(10),\n",
        "                                         left_on='start_station_name',\n",
        "                                         right_on='end_station_name')[['start_station_name',\n",
        "                                                                       'rents_num_x', \n",
        "                                                                       'rents_num_y']]\n",
        "\n",
        "pd.DataFrame(df_intersected).rename(columns={'rents_num_x':'as_start_station',\n",
        "                                             'rents_num_y':'as_end_station',\n",
        "                                             'start_station_name':'station_name'})"
      ],
      "metadata": {
        "id": "7CdkeJT217qx"
      },
      "execution_count": null,
      "outputs": []
    },
    {
      "cell_type": "code",
      "source": [
        "# Nejfrekventovanější stanice podle celkové sumy výpůjček a vrácení\n",
        "df_sum = df_start.merge(df_end, \n",
        "                        left_on='start_station_name', \n",
        "                        right_on='end_station_name')[['start_station_name',\n",
        "                                                      'rents_num_x', \n",
        "                                                      'rents_num_y']]\n",
        "\n",
        "df_sum['rents_sum'] = df_sum['rents_num_y'] + df_sum['rents_num_x']\n",
        "df_sum = df_sum.sort_values(by='rents_sum', ascending=False).rename(columns={'start_station_name':'station_name',\n",
        "                                                                    'rents_num_y':'as_end_station',\n",
        "                                                                    'rents_num_x':'as_start_station'}).head(10)\n",
        "df_sum\n"
      ],
      "metadata": {
        "id": "BU92cl4kgRvG"
      },
      "execution_count": null,
      "outputs": []
    },
    {
      "cell_type": "code",
      "source": [
        "# Vykreslení nejfrekventovanějších stanic na mapě\n",
        "stations = df_sum['station_name'].tolist()\n",
        "\n",
        "df_frequent_map =  df.loc[df['start_station_name'].isin(stations)].drop_duplicates('start_station_name')\n",
        "show_on_map(df_frequent_map,'start_station_latitude','start_station_longitude','start_station_name')"
      ],
      "metadata": {
        "id": "LFpDb1aagRm-"
      },
      "execution_count": null,
      "outputs": []
    },
    {
      "cell_type": "markdown",
      "source": [
        "## Stanice, na kterých se kola hromadí a stanice, kde potenciálně chybí"
      ],
      "metadata": {
        "id": "oRUUkoSTgB-b"
      }
    },
    {
      "cell_type": "markdown",
      "source": [
        "Celkový rozdíl mezi vypůjčenými a vrácenými koly "
      ],
      "metadata": {
        "id": "Mhb2irFVSTSn"
      }
    },
    {
      "cell_type": "code",
      "source": [
        "# Získání rozdílu mezi vypůjčenými a vrácenými koly\n",
        "df_diff = df[['start_station_id', 'end_station_id']].apply(pd.Series.value_counts).reset_index()\n",
        "df_diff = df_diff.rename(columns={'start_station_id':'start_station_count',\n",
        "                                  'end_station_id'  :'end_station_count',\n",
        "                                  'index'           :'station_id'})\n",
        "df_diff['difference'] = df_diff['end_station_count'].fillna(0) - df_diff['start_station_count'].fillna(0)\n",
        "df_diff = df_diff.merge(df, left_on='station_id',right_on='start_station_id').drop_duplicates('station_id')\n",
        "df_diff = df_diff[['start_station_name','start_station_count','end_station_count','difference']].rename(\n",
        "           columns={'start_station_name':'station_name'}).sort_values(by='difference',ascending=False)\n",
        "\n",
        "df_diff"
      ],
      "metadata": {
        "id": "T7ARuNximgYY"
      },
      "execution_count": null,
      "outputs": []
    },
    {
      "cell_type": "code",
      "source": [
        "# Stanice na kterých se kola hromadí.\n",
        "df_diff[df_diff['difference'] > 0][['station_name','difference']].sort_values(by='difference', ascending=False)"
      ],
      "metadata": {
        "id": "2O6m4VikSK8Y"
      },
      "execution_count": null,
      "outputs": []
    },
    {
      "cell_type": "code",
      "source": [
        "# Stanice na kterách kola chybí.\n",
        "df_diff[df_diff['difference'] < 0][['station_name','difference']].sort_values(by='difference')"
      ],
      "metadata": {
        "id": "y7IRyMHmSK05"
      },
      "execution_count": null,
      "outputs": []
    },
    {
      "cell_type": "markdown",
      "source": [
        "Denní průměr rozdílu mezi vypůjčenými a vrácenými koly "
      ],
      "metadata": {
        "id": "jjm2btOmSiCn"
      }
    },
    {
      "cell_type": "code",
      "source": [
        "df_day_diff = df.copy()\n",
        "df_day_diff['started_at'] = df_day_diff['started_at'].dt.date\n",
        "df_day_diff['ended_at']   = df_day_diff['ended_at'].dt.date\n",
        "df_day_diff[df_day_diff['started_at'] != df_day_diff['ended_at']].count()"
      ],
      "metadata": {
        "id": "QsrE4cQy3z7z"
      },
      "execution_count": null,
      "outputs": []
    },
    {
      "cell_type": "code",
      "source": [
        "df_day_diff = df_day_diff[['started_at', 'start_station_id', 'end_station_id']]\n",
        "df_day_diff = df_day_diff.groupby(['started_at']).agg({'start_station_id': 'value_counts',\n",
        "                                                       'end_station_id'  : 'value_counts'})\n",
        "df_day_diff.fillna(0, inplace=True)\n",
        "df_day_diff['difference'] =  df_day_diff['end_station_id'] - df_day_diff['start_station_id']\n",
        "\n",
        "df_day_diff = df_day_diff.reset_index().rename(\n",
        "                                          columns={'started_at':'date',\n",
        "                                                   'level_1'   :'station_id',\n",
        "                                                   'start_station_id':'start_station_count',\n",
        "                                                   'end_station_id':'end_station_count'})\n"
      ],
      "metadata": {
        "id": "6b9HjPMyUn4m"
      },
      "execution_count": 238,
      "outputs": []
    },
    {
      "cell_type": "code",
      "source": [
        "df_day_diff = df_day_diff.reset_index().rename(\n",
        "                                          columns={'started_at':'date',\n",
        "                                                   'level_1'   :'station_id',\n",
        "                                                   'start_station_id':'start_station_count',\n",
        "                                                   'end_station_id':'end_station_count'})\n"
      ],
      "metadata": {
        "id": "dUGq0ePZWOfg"
      },
      "execution_count": 239,
      "outputs": []
    },
    {
      "cell_type": "code",
      "source": [
        "df_day_diff = df_day_diff.groupby(['station_id']).mean().reset_index()[['station_id', 'difference']].sort_values(\n",
        "              by='difference', ascending=True)\n",
        "\n",
        "df_daily_mean = df_day_diff.merge(df,\n",
        "                                  left_on='station_id',\n",
        "                                  right_on='end_station_id')[['station_id',\n",
        "                                                              'end_station_name',\n",
        "                                                              'end_station_description',\n",
        "                                                              'difference',\n",
        "                                                              'end_station_latitude',\n",
        "                                                              'end_station_longitude']]\n",
        "df_daily_mean.drop_duplicates(subset='station_id', inplace=True)"
      ],
      "metadata": {
        "id": "plnUSMOlX6AI"
      },
      "execution_count": 240,
      "outputs": []
    },
    {
      "cell_type": "code",
      "source": [
        "# Top 10 stanic, kde kola chybí\n",
        "show_on_map(df_daily_mean.head(10),'end_station_latitude','end_station_longitude','end_station_name')"
      ],
      "metadata": {
        "id": "J4jRnauKdaaP"
      },
      "execution_count": null,
      "outputs": []
    },
    {
      "cell_type": "code",
      "source": [
        "df_daily_mean[df_daily_mean['difference'] < 0][['end_station_name','difference']].sort_values(by='difference')"
      ],
      "metadata": {
        "id": "HlkZLlFTRqh5"
      },
      "execution_count": null,
      "outputs": []
    },
    {
      "cell_type": "code",
      "source": [
        "# top 10 stanic, kde kola se hromadí\n",
        "show_on_map(df_daily_mean.tail(10),'end_station_latitude','end_station_longitude','end_station_name')"
      ],
      "metadata": {
        "id": "Oq6SFfKndbAg"
      },
      "execution_count": null,
      "outputs": []
    },
    {
      "cell_type": "code",
      "source": [
        "df_daily_mean[df_daily_mean['difference'] > 0][['end_station_name','difference']].sort_values(by='difference')"
      ],
      "metadata": {
        "id": "i8pxV-JpRy1c"
      },
      "execution_count": null,
      "outputs": []
    },
    {
      "cell_type": "markdown",
      "source": [
        "1. V celém datasetu je pouze 2894 záznamů, kdy se liší datum výpujčky a vrácení.\n",
        "Proto sem se rozhodl počítat denní průměr na základě \"started_at_\"\n",
        "2. První část zobrazuje celkový rozdíl mezi vypůjčenými a vrácenými koly pro každou stanici.\n",
        "3. Druhá část zobrazuje denní průměr rozdílu mezi vypůjčenými a vrácenými koly pro každou stanici.\n",
        "4. Mapy ukazují TOP 10 stanic kde kola chybí a nebo se  hromadí."
      ],
      "metadata": {
        "id": "j0Uy8Gncc3ba"
      }
    },
    {
      "cell_type": "markdown",
      "source": [
        "## Vzdálenosti mezi jednotlivými stanicemi"
      ],
      "metadata": {
        "id": "1erge18NpOoT"
      }
    },
    {
      "cell_type": "code",
      "source": [
        "# Vytváření DF s názvy stanic a zeměpisné šířky a délky\n",
        "df_geo = df.drop_duplicates(subset = ['end_station_id'])\n",
        "df_geo['station_name'] = df_geo['end_station_name'] + ', ' + df_geo['end_station_description']\n",
        "df_geo.rename(columns={'end_station_latitude':'LAT','end_station_longitude':'LON'},inplace= True)\n",
        "\n",
        "df_geo = df_geo[['station_name','LAT','LON']]\n",
        "df_geo"
      ],
      "metadata": {
        "id": "CYzrgIb3pPun"
      },
      "execution_count": null,
      "outputs": []
    },
    {
      "cell_type": "code",
      "source": [
        "# Vytvoření všech možných kombinací pro každou stanici\n",
        "df_station_pairs = pd.DataFrame({'start':df_geo['station_name'].repeat(len(df_geo['station_name'])),\n",
        "                                 'end' : [r for r in df_geo['station_name']]*len(df_geo['station_name'])})\n",
        "df_station_pairs"
      ],
      "metadata": {
        "id": "QtFUaByEBOTH"
      },
      "execution_count": null,
      "outputs": []
    },
    {
      "cell_type": "code",
      "source": [
        "# Přiřazení zeměpisné šířky a délky pro každou stanici ve sloupcích ['start','end']\n",
        "df_station_pairs = (df_station_pairs.join(df_geo.set_index('station_name').add_prefix('start_'), on='start')\n",
        "                   .join(df_geo.set_index('station_name').add_prefix('end_'), on='end'))\n",
        "df_station_pairs"
      ],
      "metadata": {
        "id": "HqfVjPfpLxgc"
      },
      "execution_count": null,
      "outputs": []
    },
    {
      "cell_type": "code",
      "source": [
        "# Výpočet vzdálenosti mezi stanicemi na základě LAT a LON v kilometrech\n",
        "df_station_pairs['Distance'] = df_station_pairs.apply(lambda row: h3.point_dist((row['start_LAT'],\n",
        "                                                                                 row['start_LON']),\n",
        "                                                                                (row['end_LAT'],\n",
        "                                                                                 row['end_LON']),unit='km'), axis=1)"
      ],
      "metadata": {
        "id": "Y6xHLl1XpPfD"
      },
      "execution_count": 248,
      "outputs": []
    },
    {
      "cell_type": "code",
      "source": [
        "# Vytvoření matice stanice\n",
        "df_distance =  df_station_pairs.pivot_table(index='start', columns='end', values='Distance')\n",
        "df_distance"
      ],
      "metadata": {
        "id": "5M_2xXHiqMWy"
      },
      "execution_count": null,
      "outputs": []
    },
    {
      "cell_type": "code",
      "source": [
        "# Seznam všech názvů stanic pro funkci níže\n",
        "df_geo['station_name'].to_frame()"
      ],
      "metadata": {
        "id": "gxab93pAaBUB"
      },
      "execution_count": null,
      "outputs": []
    },
    {
      "cell_type": "code",
      "source": [
        "# Funkce na pohodlnější hledání vzdáleností mezi jednotlivými stanicemi\n",
        "# Funkce bere jako argument název stanice a následně zobrazí vzdálenosti všech ostatních stanic od zadané stanice\n",
        "def detect_station(station_name):\n",
        "  return df_distance.loc[[station_name]].transpose()\n",
        "  \n",
        "detect_station('Abbeyhill, Near Abbey Mount')"
      ],
      "metadata": {
        "id": "tPWID5K3UgQ3"
      },
      "execution_count": null,
      "outputs": []
    },
    {
      "cell_type": "markdown",
      "source": [
        "1. Výpočet vzdáleností mezi jednotlivými stanicemi na základě zeměpisné šířky a délky.\n",
        "2. Při výpočtu vzdáleností mezi stanicemi jsem si všimnul jedné velice odlehlé stanice \"Smarter Travel Station, The Street\", která se nachází ve městě Liverpool místo Edinburgh"
      ],
      "metadata": {
        "id": "Nqsedq8uYk0e"
      }
    },
    {
      "cell_type": "markdown",
      "source": [
        "## Doba trvání jedné výpůjčky a odlehlé hodnoty."
      ],
      "metadata": {
        "id": "wybw-laKq0H3"
      }
    },
    {
      "cell_type": "code",
      "source": [
        "# Směrodatná odchylka v minutách\n",
        "df['duration'].std()/60"
      ],
      "metadata": {
        "id": "dlpKXZseq097"
      },
      "execution_count": null,
      "outputs": []
    },
    {
      "cell_type": "code",
      "source": [
        "df['duration'].mean()/60 "
      ],
      "metadata": {
        "id": "RqJcjYK2q1Ay"
      },
      "execution_count": null,
      "outputs": []
    },
    {
      "cell_type": "code",
      "source": [
        "# Z dataframu jsem odstranil hodnoty, které byly větší než  směrodatná odchylka\n",
        "# a převedl vteřiny na minuty pro lepší přehlednost\n",
        "df_duration = df[df['duration'] < df['duration'].std()]\n",
        "df_duration['duration'] = round(df_duration['duration']/60,0)"
      ],
      "metadata": {
        "id": "LwsLK1Wzq1Dp"
      },
      "execution_count": null,
      "outputs": []
    },
    {
      "cell_type": "code",
      "source": [
        "# Průměrná doba výpůjčky \n",
        "df_duration['duration'].mean()"
      ],
      "metadata": {
        "id": "Cjjcbizq_1Z5"
      },
      "execution_count": null,
      "outputs": []
    },
    {
      "cell_type": "code",
      "source": [
        "df_duration['rents_num'] = df_duration['duration'].groupby(df_duration['duration']).transform('count')\n",
        "df_duration = df_duration[['duration', 'rents_num']].drop_duplicates().sort_values(by='rents_num', ascending=False)\n",
        "\n",
        "# Nejvíce si lidé půjčují kola v rozmezí  6 až 15 minut\n",
        "df_duration.head(10)"
      ],
      "metadata": {
        "id": "xbHJzOwai22H"
      },
      "execution_count": null,
      "outputs": []
    },
    {
      "cell_type": "code",
      "source": [
        "# Graf zobrazuje počet výpujček pro jednotlivé minuty\n",
        "alt.Chart(df_duration, title='Time of rent').mark_bar(size=10).encode(\n",
        "    x=alt.X('duration', title='Minutes'),\n",
        "    y=alt.Y('rents_num', title='Number of rents'),\n",
        "    tooltip=[alt.Tooltip('duration', title=\"Minute\"),\n",
        "             alt.Tooltip('rents_num', title='Number of rents')]\n",
        ").properties(\n",
        "    width=1200,\n",
        "    height=300\n",
        ") "
      ],
      "metadata": {
        "id": "wFeEpCeA9clo"
      },
      "execution_count": null,
      "outputs": []
    },
    {
      "cell_type": "code",
      "source": [
        "# Top 10 nejodlehlejších hodnot\n",
        "df_deviation = df.copy()\n",
        "fig = px.box(df_deviation, y='duration')\n",
        "fig.show()"
      ],
      "metadata": {
        "id": "znDZEcAKCVPj"
      },
      "execution_count": null,
      "outputs": []
    },
    {
      "cell_type": "code",
      "source": [
        "outliers = []\n",
        "def detect_outliers_iqr(data):\n",
        "    data = sorted(data)\n",
        "    q1 = np.percentile(data, 25)\n",
        "    q3 = np.percentile(data, 75)\n",
        "    IQR = q3-q1\n",
        "    lwr_bound = q1-(1.5*IQR)\n",
        "    upr_bound = q3+(1.5*IQR)\n",
        "    for i in data: \n",
        "        if (i<lwr_bound or i>upr_bound):\n",
        "            outliers.append(i)\n",
        "    return outliers\n",
        "sample_outliers = detect_outliers_iqr(df_deviation['duration'])\n",
        "pd.DataFrame(sample_outliers)"
      ],
      "metadata": {
        "id": "ypFUXdRZi6__"
      },
      "execution_count": null,
      "outputs": []
    },
    {
      "cell_type": "markdown",
      "source": [
        "1. Pro výpočet průměrné doby výpůjčky jsem nejdříve z datasetu odstranil hodnoty větší než směrodatná odchylka, aby nezkreslovali histogram.\n",
        "2. Průměrná doba výpůjčky je 25.67 minut.\n",
        "3. Nejvíce si lidé půjčují kola v rozmezí 6 až 15 minut\n",
        "4. Při hledání odlehlých hodnot jsem použil vizualizaci px.box a  IQR (Inter Quartile Range). Za odhlehlé hodnoty můžeme považovat všechny doby výpůjček vyšší než 5387 vteřin (89,8 minut). Nejextrémnější hodnota je 2 363 348 vteřin což je něco málo přes 27 dní. Můžeme se tedy domnívat, že dotyčný kolo zapomněl vrátit.\n"
      ],
      "metadata": {
        "id": "c97ixn1kd8Wj"
      }
    },
    {
      "cell_type": "markdown",
      "source": [
        "## Analýza poptávky v čase"
      ],
      "metadata": {
        "id": "pmQYDsGbEoZJ"
      }
    },
    {
      "cell_type": "code",
      "source": [
        "# Funkce zobrazí graf pro jednotlivé roky v datasetu\n",
        "def show_graph(year):\n",
        "  return  alt.Chart(df_month[df_month['year']==year],\n",
        "          title='Number of monthly rents').mark_bar(size=18).encode(\n",
        "          x=alt.X('date', title='Months',sort=None),\n",
        "          y=alt.Y('Number_of_rents', title='Number of rents'),\n",
        "          tooltip=[alt.Tooltip('date', title=\"Month\"),\n",
        "                  alt.Tooltip('Number_of_rents', title=\"Number of rents\")]\n",
        "        )"
      ],
      "metadata": {
        "id": "mirHSq9z6MvX"
      },
      "execution_count": 260,
      "outputs": []
    },
    {
      "cell_type": "code",
      "source": [
        "# Dataset sem rozdělil do měsíců a spočítal pro každý měsíc počet výpůjček\n",
        "data_month = df.resample('M', on='started_at').index.count()\n",
        "\n",
        "df_month = pd.DataFrame(data_month)\n",
        "df_month.reset_index(inplace=True)\n",
        "df_month['year']=df_month['started_at'].dt.year\n",
        "df_month['month']=df_month['started_at'].dt.month_name()\n",
        "df_month['date']=df_month['month'] + ' ' + df_month['year'].astype(str)\n",
        "df_month.rename(columns={'index':'Number_of_rents'},inplace=True)\n",
        "\n",
        "alt.Chart(df_month,title='Number of monthly rents').mark_bar(size=18).encode(\n",
        "    x=alt.X('date', title='Months',sort=None),\n",
        "    y=alt.Y('Number_of_rents', title='Number of rents'),\n",
        "    tooltip=[alt.Tooltip('date', title=\"Month\"),\n",
        "             alt.Tooltip('Number_of_rents', title=\"Number of rents\")]\n",
        ")"
      ],
      "metadata": {
        "id": "di9wNIrVGevd"
      },
      "execution_count": null,
      "outputs": []
    },
    {
      "cell_type": "code",
      "source": [
        "# Roky v datasetu - 2018, 2019, 2020, 2021\n",
        "show_graph(2018)"
      ],
      "metadata": {
        "id": "56oslLpa6aTj"
      },
      "execution_count": null,
      "outputs": []
    },
    {
      "cell_type": "code",
      "source": [
        "show_graph(2019)"
      ],
      "metadata": {
        "id": "Z9GU8t4KlLFa"
      },
      "execution_count": null,
      "outputs": []
    },
    {
      "cell_type": "code",
      "source": [
        "show_graph(2020)"
      ],
      "metadata": {
        "id": "j9s_JsodlLUy"
      },
      "execution_count": null,
      "outputs": []
    },
    {
      "cell_type": "code",
      "source": [
        "show_graph(2021)"
      ],
      "metadata": {
        "id": "KRZyFDxGlLit"
      },
      "execution_count": null,
      "outputs": []
    },
    {
      "cell_type": "markdown",
      "source": [
        "1. Z grafu vidíme, že si lidé půjčují kola nejvíc přes a jaro a léto, naopak na podzim začíná poptávka klesat.\n",
        "2. Nárůst poptávky v roce 2019 mohl způsobit větší zájem lidí o bike sharing ve velkých městech, větší známost firmy než předchozí rok, nebo dobře cílená reklama.\n",
        "3. Větší nárůst v roce 2020 mohl zapříčinit covid-19, kdy lidé omezovali městskou hromadnou dopravu.\n",
        "4. Rok 2021 zaznamenal pokles poptávky oproti roku 2020. Opět to mohlo být spojené s  covid-19, kdy se začaly rušit různé omezení a lidé se vraceli do  městské hromadné dopravy."
      ],
      "metadata": {
        "id": "7lsdDNRwjona"
      }
    },
    {
      "cell_type": "markdown",
      "source": [
        "## Vliv počasí na poptávku po kolech"
      ],
      "metadata": {
        "id": "QmfFZ62pNBGz"
      }
    },
    {
      "cell_type": "code",
      "source": [
        "url='https://drive.google.com/file/d/1Xog4IG33EZQxh6AC2Uj-ImY8NXEKrANP/view?usp=sharing'\n",
        "url='https://drive.google.com/uc?id=' + url.split('/')[-2]\n",
        "df_weather = pd.read_csv(url, delimiter=',', decimal=',', index_col=[0])"
      ],
      "metadata": {
        "id": "WiCOk8aeNdtU"
      },
      "execution_count": 266,
      "outputs": []
    },
    {
      "cell_type": "code",
      "source": [
        "df_weather.isna().sum()"
      ],
      "metadata": {
        "id": "Z8bsO-1f-LNV"
      },
      "execution_count": null,
      "outputs": []
    },
    {
      "cell_type": "code",
      "source": [
        "# Vytvoření DF s denním počtem výpůjček a přídání názvů dnů\n",
        "df_days = pd.DataFrame(df.resample('D', on='started_at').index.count())\n",
        "df_days.reset_index(inplace=True)\n",
        "df_days.rename(columns={'started_at':'date','index':'number_of_rents'},inplace=True)\n",
        "df_days['name_of_day'] = df_days['date'].dt.day_name()\n",
        "df_days = df_days[['date','name_of_day','number_of_rents']]\n",
        "df_days"
      ],
      "metadata": {
        "id": "WcwWHVSx9gpC"
      },
      "execution_count": null,
      "outputs": []
    },
    {
      "cell_type": "code",
      "source": [
        "vis_dict = {'Excellent': 1, 'Good': 2,'Average': 3,'Poor': 4}\n",
        "df_weather.replace({'vis': vis_dict}, inplace= True)"
      ],
      "metadata": {
        "id": "dVPUpv-1_6a-"
      },
      "execution_count": 269,
      "outputs": []
    },
    {
      "cell_type": "code",
      "source": [
        "# Převedené hodnot na numerické hodnoty\n",
        "df_weather = (df_weather.replace(to_replace = ['°c','km/h','mm','%','mb','from','S','N','W','E'],\n",
        "                                 value = '',\n",
        "                                 regex= True))\n",
        "cols = ['temp', 'feels', 'wind', 'gust', 'rain', 'humidity', 'cloud', 'pressure', 'vis']\n",
        "df_weather[cols] = df_weather[cols].apply(pd.to_numeric)\n",
        "df_weather[\"date\"] = pd.to_datetime(df_weather[\"date\"])\n",
        "df_weather"
      ],
      "metadata": {
        "id": "G_RaOSF-Ndv5"
      },
      "execution_count": null,
      "outputs": []
    },
    {
      "cell_type": "code",
      "source": [
        "# Zprůměrovaní hodnot na denní hodnoty\n",
        "df_weather = df_weather.groupby('date')[cols].mean().reset_index()"
      ],
      "metadata": {
        "id": "M3_1RC4FPQ0P"
      },
      "execution_count": 271,
      "outputs": []
    },
    {
      "cell_type": "code",
      "source": [
        "df_day = df_days[['date','number_of_rents']]\n",
        "df_corr = pd.merge(df_weather,df_day,on='date')\n",
        "df_corr"
      ],
      "metadata": {
        "id": "qa6W52_SNdyi"
      },
      "execution_count": null,
      "outputs": []
    },
    {
      "cell_type": "code",
      "source": [
        "# Korelace jednotlivých hodnot k výpujčkám.\n",
        "df_corr.corr().loc[['number_of_rents'],cols]"
      ],
      "metadata": {
        "id": "XdYHb9E2OFZw"
      },
      "execution_count": null,
      "outputs": []
    },
    {
      "cell_type": "markdown",
      "source": [
        "1. Dataset edinburgh weather má 6336 řádků a 11 sloupců.\n",
        "Sloupce ukazují čas ve 3hodinových intervalech, teplotu, pocitovou teplotu, vítr, náraz větru, déšť, vlhkost, oblačno, tlak, viditelnost a datum.\n",
        "Dataset  začíná 2018-09-01 a končí 2020-10-31. Nemá žádné NaN hodnoty.\n",
        "2. Pro zjištění vlivu počasí na poptávku jsem se rozhodl použít korelaci.\n",
        "* Výsledky korelace nám ukazují, že pozitivní vliv na poptávku má nejvíce teplota a pocitová teplota. Což nám potvrzuje i výsledek předchozí otázky, kde je vidět, že lidé si nejvíce půjčují kola v teplých měsících.\n",
        "* Naopak negativní vliv na poptávku má náraz větru, vítr a vlhkost. Dle výsledků se ale jedná o malý vliv na poptávku.\n",
        "* Žádný vliv na poptávku má déšť, oblačnost a viditelnost.\n",
        "* Osobně mě překvapilo, že déšť nemá na poptávku téměř žádný vliv. \n",
        "Můžeme to přisuzovat tomu, že tamní lidí jsou na déšť více zvyklý než většina populace."
      ],
      "metadata": {
        "id": "o7TKFjh3-DV9"
      }
    },
    {
      "cell_type": "markdown",
      "source": [
        "## Půjčují si lidé kola více o víkendu než během pracovního týdne?"
      ],
      "metadata": {
        "id": "ROOqIQqPPXUE"
      }
    },
    {
      "cell_type": "code",
      "source": [
        "# Lidé si půjčují kola více o víkendu než během pracovního týdne\n",
        "days = [ 'Monday', 'Tuesday', 'Wednesday', 'Thursday', 'Friday', 'Saturday', 'Sunday']\n",
        "df_days = df_days.groupby(by=[\"name_of_day\"]).sum().reindex(days).reset_index()\n",
        "df_days"
      ],
      "metadata": {
        "id": "gTFm5qdYPbDI"
      },
      "execution_count": null,
      "outputs": []
    },
    {
      "cell_type": "code",
      "source": [
        "alt.Chart(df_days,title='The busiest days').mark_bar(size=18).encode(\n",
        "    x=alt.X('name_of_day', title='Days'),\n",
        "    y=alt.Y('number_of_rents', title='Number of rents'),\n",
        "    tooltip=[alt.Tooltip('name_of_day', title=\"Day\"), alt.Tooltip('number_of_rents', title=\"Number of rents\")]\n",
        ")"
      ],
      "metadata": {
        "id": "ogGwkMIICY0A"
      },
      "execution_count": null,
      "outputs": []
    }
  ]
}